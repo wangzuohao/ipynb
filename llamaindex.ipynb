{
  "nbformat": 4,
  "nbformat_minor": 0,
  "metadata": {
    "colab": {
      "provenance": [],
      "authorship_tag": "ABX9TyOdyxs6SYtyhrMvQzY/qqv7",
      "include_colab_link": true
    },
    "kernelspec": {
      "name": "python3",
      "display_name": "Python 3"
    },
    "language_info": {
      "name": "python"
    }
  },
  "cells": [
    {
      "cell_type": "markdown",
      "metadata": {
        "id": "view-in-github",
        "colab_type": "text"
      },
      "source": [
        "<a href=\"https://colab.research.google.com/github/wangzuohao/ipynb/blob/main/llamaindex.ipynb\" target=\"_parent\"><img src=\"https://colab.research.google.com/assets/colab-badge.svg\" alt=\"Open In Colab\"/></a>"
      ]
    },
    {
      "cell_type": "code",
      "source": [
        "!pip install openai\n",
        "!pip install gpt_index\n",
        "!pip install llama_index"
      ],
      "metadata": {
        "id": "-Lo5wlVYdFOL"
      },
      "execution_count": null,
      "outputs": []
    },
    {
      "cell_type": "markdown",
      "source": [
        "Read Data From PDF"
      ],
      "metadata": {
        "id": "ftWTOIQKd_2F"
      }
    },
    {
      "cell_type": "code",
      "execution_count": 4,
      "metadata": {
        "id": "oeHKor-vcxQM"
      },
      "outputs": [],
      "source": [
        "from pathlib import Path\n",
        "from gpt_index import download_loader\n",
        "\n",
        "PDFReader = download_loader(\"PDFReader\")\n",
        "\n",
        "loader = PDFReader()\n",
        "documents = loader.load_data(file=Path('./Trulicity.pdf'))"
      ]
    },
    {
      "cell_type": "code",
      "source": [
        "\n",
        "# Import necessary packages\n",
        "from llama_index import GPTSimpleVectorIndex, Document, SimpleDirectoryReader\n",
        "import os\n",
        "from llama_index.indices.knowledge_graph.base import GPTKnowledgeGraphIndex\n",
        "\n",
        "os.environ['OPENAI_API_KEY'] = 'sk-xxxxxxxxxxxxxxxxxx'"
      ],
      "metadata": {
        "id": "VO4lYE2OfRCu"
      },
      "execution_count": 5,
      "outputs": []
    },
    {
      "cell_type": "code",
      "source": [
        "index = GPTSimpleVectorIndex(documents)\n",
        "index.save_to_disk('index.json')\n"
      ],
      "metadata": {
        "id": "9i0knmqAfTJC"
      },
      "execution_count": null,
      "outputs": []
    },
    {
      "cell_type": "code",
      "source": [
        "index = GPTSimpleVectorIndex.load_from_disk('index.json')"
      ],
      "metadata": {
        "id": "Ag3vIaoEjnsk"
      },
      "execution_count": 18,
      "outputs": []
    },
    {
      "cell_type": "code",
      "source": [
        "response = index.query(\"度拉糖肽的用量？\")\n",
        "print(response)"
      ],
      "metadata": {
        "id": "ldllmicafWCu"
      },
      "execution_count": null,
      "outputs": []
    }
  ]
}
