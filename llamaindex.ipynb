{
  "nbformat": 4,
  "nbformat_minor": 0,
  "metadata": {
    "colab": {
      "provenance": [],
      "authorship_tag": "ABX9TyMKiwuFrIsE4Bb2L9PWj43I",
      "include_colab_link": true
    },
    "kernelspec": {
      "name": "python3",
      "display_name": "Python 3"
    },
    "language_info": {
      "name": "python"
    }
  },
  "cells": [
    {
      "cell_type": "markdown",
      "metadata": {
        "id": "view-in-github",
        "colab_type": "text"
      },
      "source": [
        "<a href=\"https://colab.research.google.com/github/wangzuohao/ipynb/blob/main/llamaindex.ipynb\" target=\"_parent\"><img src=\"https://colab.research.google.com/assets/colab-badge.svg\" alt=\"Open In Colab\"/></a>"
      ]
    },
    {
      "cell_type": "code",
      "source": [
        "!pip install openai\n",
        "!pip install gpt_index\n",
        "!pip install llama_index"
      ],
      "metadata": {
        "colab": {
          "base_uri": "https://localhost:8080/"
        },
        "id": "-Lo5wlVYdFOL",
        "outputId": "28be0fd3-5d09-4cc0-f827-20bef9dca9ac"
      },
      "execution_count": 6,
      "outputs": [
        {
          "output_type": "stream",
          "name": "stdout",
          "text": [
            "Looking in indexes: https://pypi.org/simple, https://us-python.pkg.dev/colab-wheels/public/simple/\n",
            "Requirement already satisfied: openai in /usr/local/lib/python3.9/dist-packages (0.27.2)\n",
            "Requirement already satisfied: tqdm in /usr/local/lib/python3.9/dist-packages (from openai) (4.65.0)\n",
            "Requirement already satisfied: aiohttp in /usr/local/lib/python3.9/dist-packages (from openai) (3.8.4)\n",
            "Requirement already satisfied: requests>=2.20 in /usr/local/lib/python3.9/dist-packages (from openai) (2.27.1)\n",
            "Requirement already satisfied: charset-normalizer~=2.0.0 in /usr/local/lib/python3.9/dist-packages (from requests>=2.20->openai) (2.0.12)\n",
            "Requirement already satisfied: idna<4,>=2.5 in /usr/local/lib/python3.9/dist-packages (from requests>=2.20->openai) (3.4)\n",
            "Requirement already satisfied: urllib3<1.27,>=1.21.1 in /usr/local/lib/python3.9/dist-packages (from requests>=2.20->openai) (1.26.15)\n",
            "Requirement already satisfied: certifi>=2017.4.17 in /usr/local/lib/python3.9/dist-packages (from requests>=2.20->openai) (2022.12.7)\n",
            "Requirement already satisfied: multidict<7.0,>=4.5 in /usr/local/lib/python3.9/dist-packages (from aiohttp->openai) (6.0.4)\n",
            "Requirement already satisfied: yarl<2.0,>=1.0 in /usr/local/lib/python3.9/dist-packages (from aiohttp->openai) (1.8.2)\n",
            "Requirement already satisfied: frozenlist>=1.1.1 in /usr/local/lib/python3.9/dist-packages (from aiohttp->openai) (1.3.3)\n",
            "Requirement already satisfied: async-timeout<5.0,>=4.0.0a3 in /usr/local/lib/python3.9/dist-packages (from aiohttp->openai) (4.0.2)\n",
            "Requirement already satisfied: attrs>=17.3.0 in /usr/local/lib/python3.9/dist-packages (from aiohttp->openai) (22.2.0)\n",
            "Requirement already satisfied: aiosignal>=1.1.2 in /usr/local/lib/python3.9/dist-packages (from aiohttp->openai) (1.3.1)\n",
            "Looking in indexes: https://pypi.org/simple, https://us-python.pkg.dev/colab-wheels/public/simple/\n",
            "Requirement already satisfied: gpt_index in /usr/local/lib/python3.9/dist-packages (0.4.40)\n",
            "Requirement already satisfied: pandas in /usr/local/lib/python3.9/dist-packages (from gpt_index) (1.4.4)\n",
            "Requirement already satisfied: langchain in /usr/local/lib/python3.9/dist-packages (from gpt_index) (0.0.123)\n",
            "Requirement already satisfied: openai>=0.26.4 in /usr/local/lib/python3.9/dist-packages (from gpt_index) (0.27.2)\n",
            "Requirement already satisfied: dataclasses-json in /usr/local/lib/python3.9/dist-packages (from gpt_index) (0.5.7)\n",
            "Requirement already satisfied: numpy in /usr/local/lib/python3.9/dist-packages (from gpt_index) (1.22.4)\n",
            "Requirement already satisfied: tenacity<9.0.0,>=8.2.0 in /usr/local/lib/python3.9/dist-packages (from gpt_index) (8.2.2)\n",
            "Requirement already satisfied: tiktoken in /usr/local/lib/python3.9/dist-packages (from gpt_index) (0.3.2)\n",
            "Requirement already satisfied: tqdm in /usr/local/lib/python3.9/dist-packages (from openai>=0.26.4->gpt_index) (4.65.0)\n",
            "Requirement already satisfied: aiohttp in /usr/local/lib/python3.9/dist-packages (from openai>=0.26.4->gpt_index) (3.8.4)\n",
            "Requirement already satisfied: requests>=2.20 in /usr/local/lib/python3.9/dist-packages (from openai>=0.26.4->gpt_index) (2.27.1)\n",
            "Requirement already satisfied: marshmallow-enum<2.0.0,>=1.5.1 in /usr/local/lib/python3.9/dist-packages (from dataclasses-json->gpt_index) (1.5.1)\n",
            "Requirement already satisfied: typing-inspect>=0.4.0 in /usr/local/lib/python3.9/dist-packages (from dataclasses-json->gpt_index) (0.8.0)\n",
            "Requirement already satisfied: marshmallow<4.0.0,>=3.3.0 in /usr/local/lib/python3.9/dist-packages (from dataclasses-json->gpt_index) (3.19.0)\n",
            "Requirement already satisfied: pydantic<2,>=1 in /usr/local/lib/python3.9/dist-packages (from langchain->gpt_index) (1.10.7)\n",
            "Requirement already satisfied: PyYAML>=5.4.1 in /usr/local/lib/python3.9/dist-packages (from langchain->gpt_index) (6.0)\n",
            "Requirement already satisfied: SQLAlchemy<2,>=1 in /usr/local/lib/python3.9/dist-packages (from langchain->gpt_index) (1.4.47)\n",
            "Requirement already satisfied: pytz>=2020.1 in /usr/local/lib/python3.9/dist-packages (from pandas->gpt_index) (2022.7.1)\n",
            "Requirement already satisfied: python-dateutil>=2.8.1 in /usr/local/lib/python3.9/dist-packages (from pandas->gpt_index) (2.8.2)\n",
            "Requirement already satisfied: regex>=2022.1.18 in /usr/local/lib/python3.9/dist-packages (from tiktoken->gpt_index) (2022.10.31)\n",
            "Requirement already satisfied: frozenlist>=1.1.1 in /usr/local/lib/python3.9/dist-packages (from aiohttp->openai>=0.26.4->gpt_index) (1.3.3)\n",
            "Requirement already satisfied: attrs>=17.3.0 in /usr/local/lib/python3.9/dist-packages (from aiohttp->openai>=0.26.4->gpt_index) (22.2.0)\n",
            "Requirement already satisfied: charset-normalizer<4.0,>=2.0 in /usr/local/lib/python3.9/dist-packages (from aiohttp->openai>=0.26.4->gpt_index) (2.0.12)\n",
            "Requirement already satisfied: yarl<2.0,>=1.0 in /usr/local/lib/python3.9/dist-packages (from aiohttp->openai>=0.26.4->gpt_index) (1.8.2)\n",
            "Requirement already satisfied: multidict<7.0,>=4.5 in /usr/local/lib/python3.9/dist-packages (from aiohttp->openai>=0.26.4->gpt_index) (6.0.4)\n",
            "Requirement already satisfied: async-timeout<5.0,>=4.0.0a3 in /usr/local/lib/python3.9/dist-packages (from aiohttp->openai>=0.26.4->gpt_index) (4.0.2)\n",
            "Requirement already satisfied: aiosignal>=1.1.2 in /usr/local/lib/python3.9/dist-packages (from aiohttp->openai>=0.26.4->gpt_index) (1.3.1)\n",
            "Requirement already satisfied: packaging>=17.0 in /usr/local/lib/python3.9/dist-packages (from marshmallow<4.0.0,>=3.3.0->dataclasses-json->gpt_index) (23.0)\n",
            "Requirement already satisfied: typing-extensions>=4.2.0 in /usr/local/lib/python3.9/dist-packages (from pydantic<2,>=1->langchain->gpt_index) (4.5.0)\n",
            "Requirement already satisfied: six>=1.5 in /usr/local/lib/python3.9/dist-packages (from python-dateutil>=2.8.1->pandas->gpt_index) (1.16.0)\n",
            "Requirement already satisfied: urllib3<1.27,>=1.21.1 in /usr/local/lib/python3.9/dist-packages (from requests>=2.20->openai>=0.26.4->gpt_index) (1.26.15)\n",
            "Requirement already satisfied: idna<4,>=2.5 in /usr/local/lib/python3.9/dist-packages (from requests>=2.20->openai>=0.26.4->gpt_index) (3.4)\n",
            "Requirement already satisfied: certifi>=2017.4.17 in /usr/local/lib/python3.9/dist-packages (from requests>=2.20->openai>=0.26.4->gpt_index) (2022.12.7)\n",
            "Requirement already satisfied: greenlet!=0.4.17 in /usr/local/lib/python3.9/dist-packages (from SQLAlchemy<2,>=1->langchain->gpt_index) (2.0.2)\n",
            "Requirement already satisfied: mypy-extensions>=0.3.0 in /usr/local/lib/python3.9/dist-packages (from typing-inspect>=0.4.0->dataclasses-json->gpt_index) (1.0.0)\n",
            "Looking in indexes: https://pypi.org/simple, https://us-python.pkg.dev/colab-wheels/public/simple/\n",
            "Collecting llama_index\n",
            "  Downloading llama_index-0.4.40.tar.gz (152 kB)\n",
            "\u001b[2K     \u001b[90m━━━━━━━━━━━━━━━━━━━━━━━━━━━━━━━━━━━━━━━\u001b[0m \u001b[32m152.8/152.8 KB\u001b[0m \u001b[31m9.1 MB/s\u001b[0m eta \u001b[36m0:00:00\u001b[0m\n",
            "\u001b[?25h  Preparing metadata (setup.py) ... \u001b[?25l\u001b[?25hdone\n",
            "Requirement already satisfied: dataclasses_json in /usr/local/lib/python3.9/dist-packages (from llama_index) (0.5.7)\n",
            "Requirement already satisfied: langchain in /usr/local/lib/python3.9/dist-packages (from llama_index) (0.0.123)\n",
            "Requirement already satisfied: numpy in /usr/local/lib/python3.9/dist-packages (from llama_index) (1.22.4)\n",
            "Requirement already satisfied: tenacity<9.0.0,>=8.2.0 in /usr/local/lib/python3.9/dist-packages (from llama_index) (8.2.2)\n",
            "Requirement already satisfied: openai>=0.26.4 in /usr/local/lib/python3.9/dist-packages (from llama_index) (0.27.2)\n",
            "Requirement already satisfied: pandas in /usr/local/lib/python3.9/dist-packages (from llama_index) (1.4.4)\n",
            "Requirement already satisfied: tiktoken in /usr/local/lib/python3.9/dist-packages (from llama_index) (0.3.2)\n",
            "Requirement already satisfied: tqdm in /usr/local/lib/python3.9/dist-packages (from openai>=0.26.4->llama_index) (4.65.0)\n",
            "Requirement already satisfied: aiohttp in /usr/local/lib/python3.9/dist-packages (from openai>=0.26.4->llama_index) (3.8.4)\n",
            "Requirement already satisfied: requests>=2.20 in /usr/local/lib/python3.9/dist-packages (from openai>=0.26.4->llama_index) (2.27.1)\n",
            "Requirement already satisfied: marshmallow-enum<2.0.0,>=1.5.1 in /usr/local/lib/python3.9/dist-packages (from dataclasses_json->llama_index) (1.5.1)\n",
            "Requirement already satisfied: typing-inspect>=0.4.0 in /usr/local/lib/python3.9/dist-packages (from dataclasses_json->llama_index) (0.8.0)\n",
            "Requirement already satisfied: marshmallow<4.0.0,>=3.3.0 in /usr/local/lib/python3.9/dist-packages (from dataclasses_json->llama_index) (3.19.0)\n",
            "Requirement already satisfied: PyYAML>=5.4.1 in /usr/local/lib/python3.9/dist-packages (from langchain->llama_index) (6.0)\n",
            "Requirement already satisfied: SQLAlchemy<2,>=1 in /usr/local/lib/python3.9/dist-packages (from langchain->llama_index) (1.4.47)\n",
            "Requirement already satisfied: pydantic<2,>=1 in /usr/local/lib/python3.9/dist-packages (from langchain->llama_index) (1.10.7)\n",
            "Requirement already satisfied: pytz>=2020.1 in /usr/local/lib/python3.9/dist-packages (from pandas->llama_index) (2022.7.1)\n",
            "Requirement already satisfied: python-dateutil>=2.8.1 in /usr/local/lib/python3.9/dist-packages (from pandas->llama_index) (2.8.2)\n",
            "Requirement already satisfied: regex>=2022.1.18 in /usr/local/lib/python3.9/dist-packages (from tiktoken->llama_index) (2022.10.31)\n",
            "Requirement already satisfied: multidict<7.0,>=4.5 in /usr/local/lib/python3.9/dist-packages (from aiohttp->openai>=0.26.4->llama_index) (6.0.4)\n",
            "Requirement already satisfied: yarl<2.0,>=1.0 in /usr/local/lib/python3.9/dist-packages (from aiohttp->openai>=0.26.4->llama_index) (1.8.2)\n",
            "Requirement already satisfied: charset-normalizer<4.0,>=2.0 in /usr/local/lib/python3.9/dist-packages (from aiohttp->openai>=0.26.4->llama_index) (2.0.12)\n",
            "Requirement already satisfied: frozenlist>=1.1.1 in /usr/local/lib/python3.9/dist-packages (from aiohttp->openai>=0.26.4->llama_index) (1.3.3)\n",
            "Requirement already satisfied: attrs>=17.3.0 in /usr/local/lib/python3.9/dist-packages (from aiohttp->openai>=0.26.4->llama_index) (22.2.0)\n",
            "Requirement already satisfied: aiosignal>=1.1.2 in /usr/local/lib/python3.9/dist-packages (from aiohttp->openai>=0.26.4->llama_index) (1.3.1)\n",
            "Requirement already satisfied: async-timeout<5.0,>=4.0.0a3 in /usr/local/lib/python3.9/dist-packages (from aiohttp->openai>=0.26.4->llama_index) (4.0.2)\n",
            "Requirement already satisfied: packaging>=17.0 in /usr/local/lib/python3.9/dist-packages (from marshmallow<4.0.0,>=3.3.0->dataclasses_json->llama_index) (23.0)\n",
            "Requirement already satisfied: typing-extensions>=4.2.0 in /usr/local/lib/python3.9/dist-packages (from pydantic<2,>=1->langchain->llama_index) (4.5.0)\n",
            "Requirement already satisfied: six>=1.5 in /usr/local/lib/python3.9/dist-packages (from python-dateutil>=2.8.1->pandas->llama_index) (1.16.0)\n",
            "Requirement already satisfied: certifi>=2017.4.17 in /usr/local/lib/python3.9/dist-packages (from requests>=2.20->openai>=0.26.4->llama_index) (2022.12.7)\n",
            "Requirement already satisfied: urllib3<1.27,>=1.21.1 in /usr/local/lib/python3.9/dist-packages (from requests>=2.20->openai>=0.26.4->llama_index) (1.26.15)\n",
            "Requirement already satisfied: idna<4,>=2.5 in /usr/local/lib/python3.9/dist-packages (from requests>=2.20->openai>=0.26.4->llama_index) (3.4)\n",
            "Requirement already satisfied: greenlet!=0.4.17 in /usr/local/lib/python3.9/dist-packages (from SQLAlchemy<2,>=1->langchain->llama_index) (2.0.2)\n",
            "Requirement already satisfied: mypy-extensions>=0.3.0 in /usr/local/lib/python3.9/dist-packages (from typing-inspect>=0.4.0->dataclasses_json->llama_index) (1.0.0)\n",
            "Building wheels for collected packages: llama_index\n",
            "  Building wheel for llama_index (setup.py) ... \u001b[?25l\u001b[?25hdone\n",
            "  Created wheel for llama_index: filename=llama_index-0.4.40-py3-none-any.whl size=228284 sha256=ba96e8e974c5c7a0ad1d2a2d0f20c3db0127e3a316cea498a74219b88306e5f6\n",
            "  Stored in directory: /root/.cache/pip/wheels/f6/9e/00/fb84d014b473ae594ce047527819e26e52c3583b1207b15eda\n",
            "Successfully built llama_index\n",
            "Installing collected packages: llama_index\n",
            "Successfully installed llama_index-0.4.40\n"
          ]
        }
      ]
    },
    {
      "cell_type": "markdown",
      "source": [
        "Read Data From PDS"
      ],
      "metadata": {
        "id": "ftWTOIQKd_2F"
      }
    },
    {
      "cell_type": "code",
      "execution_count": 8,
      "metadata": {
        "colab": {
          "base_uri": "https://localhost:8080/"
        },
        "id": "oeHKor-vcxQM",
        "outputId": "07b4cc32-697f-45d3-8d1c-ee0dd902b8b4"
      },
      "outputs": [
        {
          "output_type": "execute_result",
          "data": {
            "text/plain": [
              "[Document(text='1 核准日期：2019 年02月22日 \\n修改日期： 2020年05月14日； 2020年09月02日； 2021年01月07日； 2022年01月18\\n日\\n度拉糖肽注射液说明书\\n请仔细阅读说明书并在医师指导下使用。\\n警告：甲状腺 C细胞肿瘤风险  \\n完整的黑框警示信息请参见说明书\\n•度拉糖肽导\\n致大鼠甲状腺 C细胞肿瘤。目前尚不清楚度拉糖肽是否会\\n引起人类甲状腺 C细胞肿瘤，包括甲状腺髓样癌（MTC ） ，因为关于度拉\\n糖肽诱发啮齿类动物的甲状腺 C细胞肿瘤的人类相关性尚未确定（详情\\n请参考【注意事项】部分） 。\\n•度拉糖肽禁\\n用于有 MTC个人既往病史或家族病史的患者以及患有 2\\n型多发性内分泌腺瘤综合征（MEN 2 ）的患者，告知患者关于 MTC的潜\\n在风险和甲状腺肿瘤的症状（详情请参考【禁忌】 、 【注意事项】部分） 。  \\n【药品名称】  \\n通用名称：度拉糖肽注射液\\n    \\n商品名称：度易达®，TRULICITY® \\n    英文名称：Dulaglutide Injection  \\n    汉语拼音：Dulatangtai Zhusheye \\n【成份】  \\n本品活性成份为：度拉糖肽（通过 DNA重组技术，利用 CHO细胞生产） 。 \\n度拉糖肽结构式为：\\n仅供参考，请以包装中所附说明书为准\\n2     \\n分子量：59,671Da （非糖基化 ） \\n 62,561Da （糖基化主要形式）  \\n    辅料：柠檬酸三钠二水合物，无水柠檬酸，甘露醇，聚山梨酯 80，注射用水。  \\n【性状】  \\n本品为无色澄明溶液。\\n【适应症】  \\n本品适用于成人 2型糖尿病患者的血糖控制：  \\n单药治疗\\n仅靠饮食\\n控制和运动血糖控制不佳的患者。\\n联合治疗\\n在饮食控制\\n和运动基础上，接受二甲双胍、或磺脲类药物、或二甲双胍联合磺脲类药物\\n治疗血糖仍控制不佳的成人 2型糖尿病患者。  \\n【规格】  \\n0.75mg : 0.5ml （预填充注射笔）  \\n1.5mg : 0.5ml （预填充注射笔）  \\n【用法用量】  \\n用量\\n本品的推荐起始剂量为 0.75 mg每周一次。 为进一步改善血糖控制， 剂量可增加至 1.5mg\\n每周一次。最大推荐剂量为 1.5mg每周一次。  \\n当在二甲双胍基础上加用度拉糖肽时，可继续二甲双胍的当前剂量。当在磺脲类药物治\\n疗的基础上加用度拉糖肽时，应当考虑减少磺脲类药物的剂量，以降低低血糖的风险（参见\\n【不良反应】和【注意事项】 ）。\\n使用度拉\\n糖肽时，不需要进行血糖自我监测。可能需要进行血糖自我监测来调整磺脲\\n类药物的剂量。\\n肾功能损害患者  \\n轻度、中度或重度肾功能损害患者无需进行剂量调整 （eGFR 在15～90 m l/min/1.73m2\\n之间）。 在终末期肾病患者 （<15 ml/min/1.73m2）中的治疗经验非常有限，因此不推荐度仅供参考，请以包装中所附说明书为准\\n3 拉糖肽用于此类人群（ 参见【临床试验】和【药代动力学】 ）。\\n肝功能损害患者  \\n肝功能损害患者无需进行剂量调整。\\n老年患者  \\n无需根据患者年龄进行剂量调整（参见 【药代动力学】 ）。\\n儿科人群  \\n目前尚无度拉糖肽在 18岁以下儿童中的安全性和有效性数据。 \\n给药方法\\n度拉糖肽 经皮下注射给药，部位可选择腹部、大腿或上臂。不能静脉或肌 肉注射。\\n可\\n在一天中任意时间注射，和进餐与否无关。\\n若\\n遗漏给药，如果距下一次预定给药至少为 3天（ 72小时） ，应尽快给药。如果距下\\n一次预定给药少于 3天（72小时） ，应放弃这次给药，且定期进行下一次计划给药。在每\\n一种情况中，患者均可再恢复其常规每周一次的给药方案。\\n若\\n需要，只要距上一次给药超过 3天（ 72小时） ，可改变每周给药的日期。 \\n【不良反应】  \\n安全性概要\\n在已完成和进行中的 II期， III/IIIb期和 IV期临床研究中，共有 12654名患者暴露于度拉\\n糖肽。临床试验中最常见的 不良反应为胃肠道 不良反应，包括恶心、呕吐和 腹泻。这些不良\\n反应通常为轻度 或中度，呈一过性。\\n不良反应列表\\n根据对 II期、III期临床研究、长期心血管结局研究以及上市后报告的评估确认以下不良反\\n应，并列于表 1，显示为按 MedDRA 系统器官分类/ 首选术语且按发生率降序排列（十分 常见：\\n≥1/10；常见：≥1/100 ，<1/10；偶见：≥1/1000，<1/100；罕见： ≥1/10000，<1/1000；十分罕见：\\n<1/10000 和未知：无法从现有数据中估算） 。在每个发生率组中，不良反应按发生率降序排列。\\n根据在 II和III期注册研究中的发生率计算事件的频率。  仅供参考，请以包装中所附说明书为准\\n4 表1：度拉糖肽的不良反应发生频率  \\n系统器官分类 十分常见 常见 偶见 罕见 未知\\n免疫系统疾病 过敏 反应 速发 过敏反应# \\n代谢和营养疾\\n病低血糖*（与胰岛素、\\n格列美脲， 二甲双胍a\\n或二甲双胍加格列美\\n脲联用时）低\\n血糖* \\n（单药治疗或与二甲双胍加吡格列酮联用时）脱水\\n胃肠道疾病 恶心、腹泻、呕吐a、\\n腹痛a 食欲减退、消化不良、便秘、肠胃胀气、  \\n腹胀、胃食管返流性疾病、打嗝急\\n性胰腺炎 非机械性肠\\n梗阻\\n肝胆疾病 胆 石病、胆\\n囊炎\\n皮肤及皮下组\\n织类疾病血\\n管性水肿# \\n一般疾病和给\\n药部位反应疲劳 注\\n射部位反\\n应\\n各类检查 窦性心动过速  、一\\n度房\\n室传导阻滞\\n（AV B） 、脂肪酶淀\\n粉酶升高\\n# 来自上市后报告。  \\n*有记录的症状性低血糖和血糖 ≤3.9mmol/L 。\\na 仅度拉糖肽 1.5mg剂量。对于度拉糖肽 0.75mg，呕吐及腹痛发生频率在低一频率组别，即常见。 不良反应发生率低\\n于1.5mg。 \\n选定不良反应的描述\\n低血糖  \\n当度拉糖肽 0.75mg和1.5mg单药治疗或与二甲双胍或与二甲双胍和吡格列酮联用时，\\n有记录的症状低血糖发生率为 5.9%至10.9%，比率为 0.14至0.62事件/患者/年，未报告重\\n度低血糖事件。\\n当度\\n拉糖肽 0.75mg和1.5mg分别与磺脲类 和二甲双胍联用时，有记录的症状性低血\\n糖发生率分别为 39.0%和40.3%，比率为 1.67和1.67事件 /患者 /年。重度低血糖事件的发仅供参考，请以包装中所附说明书为准\\n5 生率分别为 0%和0.7%，比率为 0.00和0.01事件 /患者 /年。  \\n当度拉糖肽 1.5mg与磺脲类药物联用时，有记录的症状性低血糖发生率为 11.3%，比\\n率为 0.90事件 /患者 /年，无重度低血糖发作。  \\n当度拉糖肽 1.5mg与甘精胰岛素联用时，有记录的症状性低血糖发生率为 35.3%，比\\n率为 3.38事件 /患者 /年。重度低血糖事件发生率为 0.7%，比率为 0.01事件 /患者 /年。 \\n当度拉糖肽 0.75mg和1.5mg分别与餐时胰岛素联用时，有记录的症状性低血糖发生\\n率分别为 85.3%和80.0%，比率为 35.66和31.06事件 /患者 /年。重度 低血糖事件的发生率\\n为2.4%和3.4%，比率为 0.05和0.06事件/患者 /年。 \\n胃肠道不良反应  \\n分别使用度拉糖肽 0.75mg和1.5mg时 ， 累积报告的 104周的胃肠道不良事件发生率 ，\\n包括恶心（12.9% 和21.2%） 、腹泻（ 10.7%和13.7%）和呕吐（6.9% 和11.5%） 。这些事件\\n一般为轻度或中度，且发生率在治疗的前 2周达到峰值，在接下来的 4周内迅速下降，之\\n后维持相对稳定。\\n在2型\\n糖尿病患者中进行的长达 6周的临床药理学研究中，多数胃肠道不良事件报告\\n于首次给药后的第 2-3天，且在随后的给药中下降。 \\n急性胰腺炎  \\n在II期和 III期临床研究中， 度拉糖肽组、 安慰剂组和对照药物组急性胰腺炎发生率\\n分别为 0.07%，0.14%和0.19%（无论伴或不伴其他降糖治疗） 。 \\n胰酶  \\n度拉糖肽治疗与胰酶 （脂肪酶和 /或胰淀粉酶） 均值较基线增加有关，增加范围为 11%-\\n21%（参见【注意事项】 ） 。若不存在急性胰腺炎的其他体征和症状，仅胰酶水平升高不能\\n提示急性胰腺炎。\\n心率增加  \\n使用度拉糖肽 0.75mg和1.5mg时，心率平均小幅增加 2至4次每分钟（bpm ）， 窦 性\\n心动过速 且伴随相对基线增加 ≥15bpm的发生率分别为 1.3%和1.4%。 \\n一度房室传导阻滞 /PR间期延长  \\n使用度拉糖肽 0.75mg和1.5mg时，据观察 PR间期相对基线平均小幅增加 2至3毫\\n秒（ msec），一度房室传导阻滞发生率分别为 1.5%和2.4%。 \\n免疫原性  \\n在临床研究中，度拉糖肽治疗期间抗度拉糖肽抗体的发生率为 1.6%，表明度拉糖肽分仅供参考，请以包装中所附说明书为准\\n6 子中 GLP -1的结构修饰和 IgG4部分的修饰以及与天然 GLP -1和IgG4的高同源性使度拉\\n糖肽免疫反应的风险降至最低。出现抗度拉糖肽抗体的患者人数较少，抗体滴度低，对 III\\n期研究数据的评估显示抗度拉糖肽抗体对糖化血红蛋白变化无显著影响。发生全身性过敏\\n反应的患者中均未出现抗度拉糖肽抗体。\\n过敏反应  \\n在II期和 III期临床研究中，接受度拉糖肽治疗的患者中， 0.5%的患者报告了全身性\\n过敏反应事件（如荨麻疹、水肿） 。罕见报告使用上市后度拉糖肽出现 速发过敏反应的病\\n例。\\n注射部位反应  \\n在接受度拉糖肽治疗的患者中， 1.9%的患者报告了注射部位不良事件。 0.7%的患者报告了\\n潜在的免疫介导的注射部位不良事件（如皮疹、红斑） ，且一般为轻度。\\n不良事件所致的停药  \\n在26周的研究期间， 由于不良事件所致 停药的发生率，度拉糖肽组为 2.6%（0.75mg）和\\n6.1%（1.5mg） ，安慰剂组为 3.7%。在整个研究期间（至 104周） ，度拉糖肽组不良事件所致 停\\n药的发生率为 5.1%（0.75mg）和 8.4%（1.5mg） 。对于度拉糖肽 0.75mg和1.5mg，最常见的导\\n致停药的不良反应分别为恶心（1.0% 、1.9%） 、腹泻（0.5% 、0.6%） 、呕吐（ 0.4%、0.6%）， 且\\n一般报告于最初的 4-6周。 \\n【禁忌】  \\n对本品活性成份或任何辅料过敏的患者。\\n本品禁用于\\n有甲状腺髓样癌（MTC ）个人既往病史或家族病史的患者或者 2型多发性\\n内分泌腺瘤综合征（MEN 2 ）的患者（参见【注意事项】 ）。 \\n【注意事项】  \\n度拉糖肽不得用于 1型糖尿病患者或糖尿病酮症酸中毒的治疗。 度拉糖肽不能代替胰\\n岛素。在快速停用胰岛素或减少剂量后，胰岛素依赖性患者出现了糖尿病酮症酸中毒（参见【用法用量】 ） 。\\n脱水\\n接受度拉糖肽治疗的患者报告了脱水，有时会导致急性肾衰竭或肾功能损害加重，尤其是\\n在治疗开始时。许多报告的不良肾脏事件发生在出现恶心、呕吐、腹泻或脱水的患者中。应告知接受度拉糖肽治疗的患者可能发生脱水的风险，尤其是与胃肠道副作用相关的脱水风险，并\\n应采取预防措施，避免体液消耗。仅供参考，请以包装中所附说明书为准\\n7 严重胃肠道疾病\\nGLP -1受体激动剂的使用可能与胃肠道不良反应相关。治疗肾功能损害患者时应予以\\n考虑，因为恶心、呕吐和 /或腹泻等不良反应可能会引起脱水，而导致肾功能的恶化。尚未\\n在重度胃肠道疾病患者中研究度拉糖肽，包括重度胃轻瘫，因此不推荐度拉糖肽用于此类\\n人群。\\n甲状腺 C细胞肿瘤的风险\\n胰高血糖素样肽（GLP -1）受体激动剂类药物曾在临床相关暴露量下引起小鼠和大鼠的\\n甲状腺 C细胞腺瘤和腺癌。雄性和雌性大鼠终身暴露后，度拉糖肽导致甲状腺 C细胞肿瘤\\n（腺瘤和腺癌）的发生率呈剂量相关和治疗持续时间依赖性增加（参见【药理毒理】 ） 。度拉\\n糖肽与人类甲状腺 C细胞肿瘤的相关性尚未确定。目前尚不清楚本品是否会导致人类甲状\\n腺C细胞肿瘤，包括甲状腺髓样癌（MTC ）。 \\n接受度拉糖肽治疗的一名患者报告了 1例MTC。该患者的治疗前降钙素水平约为正常\\n上限（ULN ）的 8倍。上市后报告显示，接受利拉鲁肽（另一种 GLP -1受体激动剂）治疗\\n的患者中发生 MTC病例。这些报告中的数据不足以建立或排除人类 MTC和GLP -1受体激\\n动剂使用之间的因果关系。\\n本品禁用于有 MT\\nC个人既往病史或家族病史的患者或者患有 MEN 2的患者。告知患\\n者关于使用本品可能引起 MTC的潜在风险以及甲状腺肿瘤的症状 （如颈部肿块、 吞咽困难、\\n呼吸困难、持续性声音嘶哑） 。\\n对于使用本\\n品治疗的患者，为早期发现 MTC而常规进行血清降钙素监测或甲状腺超声\\n监测的价值尚不明确。 此类监测可能增加不必要的程序风险，因为血清降钙素的检测特异性\\n低，并且甲状腺疾病的背景发病率高。血清降钙素值显著提高可能提示 MTC，MTC患者的\\n降钙素值通常>50 ng/L 。如果测定血清降钙素，发现升高，患者应进行进一步的评价。体格\\n检查或颈部影像学检查时发现甲状腺结节的患者也应进行进一步的评价。\\n急性胰腺炎\\nGLP -1受体激动剂的使用与发生急性胰腺炎的风险相关。在临床试验中，曾报告急性\\n胰腺炎与度拉糖肽相关（参见 【不良反应】 ）。\\n应告\\n知并观察 患者急性胰腺炎的特征性症状包括持续性剧烈腹痛 。若怀疑发生了胰腺\\n炎，应停用度拉糖肽。若确诊胰腺炎，不 应再次使用度拉糖肽。若不存在急性胰腺炎的其\\n他体征和症状，仅胰酶升高不能提示急性胰腺炎（参见【不良反应】 ）。\\n低血糖\\n度拉糖肽与磺脲类药物联用可能增加低血糖的风险。 可通过减少磺脲类药物的剂量以降仅供参考，请以包装中所附说明书为准\\n8 低低血糖的风险（参见【用法用量】和【不良反应】 ）。\\n过敏反应\\n已有接受度拉糖肽治疗的患者发生严重过敏反应（包括速发过敏反应和血管性水肿） 的\\n上市后报告（参见【不良反应】 ） 。如果发生过敏反应，停用度拉糖肽治疗；立即给予标准治\\n疗，并进行监测，直至体征和症状消退。既往曾对度拉糖肽发生过敏反应的患者不应使用本\\n品（参见【禁忌】 ） 。\\n其他 G\\nLP-1受体激动剂有引起速发过敏反应和血管性水肿的报告。既往曾对另一种\\nGLP-1受体激动剂有血管性水肿或速发过敏反应史的患者应慎用本品， 因为尚不明确此类患\\n者接受度拉糖肽治疗后是否更容易发生速发过敏反应。\\n急性肾损伤\\n    接受 GLP-1受体激动剂包括度拉糖肽在内治疗的患者中，已有急性肾损伤和慢性肾病\\n加重的上市后报告，有时可能需要透析。这些事件中有些不清楚患者的基础肾病，大部分患\\n者有过恶心、呕吐、腹泻或脱水的经历。因为这些反应可以使肾功能恶化，所以肾损伤患者\\n在起始度拉糖肽治疗或递增剂量时应谨慎。 报告严重胃肠道反应的肾损伤患者应监测肾功能\\n（参见【用法用量】 ） 。\\n其他\\n每1.5mg本品中，钠含量小于 1mmol（ 23mg） ，基本为 “不含钠 ”。 \\n对驾驶和操作机器能力的影响\\n度\\n拉糖肽对驾驶和机械操作能力无影响或影响可忽略不计。当度拉糖肽与磺脲类药物联\\n用时，应该告知患者在驾驶和操作机械时避免低血糖发生。\\n处置和处理的注意事项\\n应\\n按照当地要求处置任何未使用的药品或废弃材料。\\n使\\n用说明\\n预填充注射笔仅供单次使用。\\n必\\n须认真遵守包装说明书内的注射笔使用说明。\\n若\\n出现颗粒，或溶液出现浑浊和 /或变色，不得使用度拉糖肽。 \\n不得使用已冻结的度拉糖肽。\\n【孕妇及哺乳期妇女用药】  \\n妊娠\\n尚无度拉糖肽用于孕妇的数据或数据有限。动物研究表明度拉糖肽具有生殖毒性（参见仅供参考，请以包装中所附说明书为准\\n9 【药理毒理】 ） 。因此，妊娠期不推荐使用度拉糖肽。\\n哺乳\\n尚不清楚度拉糖肽是否在人乳中分泌。不能排除度拉糖肽对新生儿 /婴儿的风险。度拉糖\\n肽不得在哺乳期使用。\\n生育\\n度拉糖肽对人类生育功能的影响未知。\\n【儿童用药】  \\n   目前尚 无度拉糖肽在 18岁以下儿童中的安全性和有效性数据。 \\n【老年用药】  \\n年龄对度拉糖肽的药代动力学和药效学特性没有临床相关影响。老年用药参见【用法用\\n量 】。\\n【药物相互作用】  \\n度拉糖肽延迟胃排空可能会影响同时口服的其他药物的吸收率。在下文所述的临床药理\\n学研究中，度拉糖肽不会对口服药物的吸收产生任何临床相关程度的影响。然而，对于接受\\n需经胃肠道快速吸收或延缓吸收的口服制剂患者而言，应考虑在与度拉糖肽联用时，可能会\\n影响这些口服制剂的暴露。\\n西格列汀\\n与单剂度拉糖肽联用时，西格 列汀的暴露不受影响。与 2个连续剂量的度拉糖肽联用\\n后，西格列汀 AUC （0-τ）和Cmax分别降低了约 7.4%和23.1%。与西格列汀单药相比，与度拉\\n糖肽联用后西格列汀的 tmax大约增加 0.5小时。  \\n西格列汀在 24小时内对二肽基肽酶 4抑制作用最高可达 80%。西格列汀和度拉糖肽联\\n用时，度拉糖肽的暴露和 Cmax 分别增加约 38%和27%，中位 tmax 增加约 24小时。因此，\\n度拉糖肽确实具有高度的保护作用，可防止其被二肽基肽酶 4降解失活 （参见 【药理毒理】 ） 。\\n暴露水平增加可能会增强度拉糖肽对血糖水平的影响。\\n扑热息痛\\n在首次 1mg和3mg度拉糖肽给药后，扑热息痛的 Cmax分别降低 36%和50%，t max中位\\n值分别为 3小时和 4小时。在达到 3mg度拉糖肽的稳态后，扑热息痛的 AUC （0-12）、C max或\\ntmax之间无统计学显著差异。当与度拉糖肽联用时，无需调整扑热息痛的剂量。  \\n阿托伐他汀\\n度拉糖肽与阿托伐他汀联用时 ， 阿托伐他汀及其主要代谢产物邻羟基阿托伐他汀的 Cmax仅供参考，请以包装中所附说明书为准\\n10 和AUC （0-∞）分别降低了 70%和21%。度拉糖肽给药后，阿托伐他汀和邻羟基阿托伐他汀的\\n平均 t1/2分别增加 17%和41%。这些观察不具有临床相关性。阿托伐他汀与度拉糖肽联用时\\n无需进行剂量调整。\\n地高辛\\n地高辛稳态时连续使 用两次度拉糖肽，地高辛的整体暴露（AUC τ）和 tmax不变；C max降\\n低了 22%。预计该变化不具有临床结果。地高辛与度拉糖肽联用时无需进行剂量调整。  \\n抗高血压药\\n赖诺普利稳态时联用多剂量度拉糖肽，赖诺普利 AUC或Cmax无临床相关变化。在研究\\n第3天和 24天，观察到赖诺普利 tmax明显延迟约 1小时。美托洛尔与单剂量度拉糖肽联用\\n时，美托洛尔的 AUC和Cmax分别增加 19%和32%。美托洛尔 tmax延迟 1小时，该变化不具\\n统计学显著意义。这些变化不具有临床相关性；因此，赖诺普利或美托洛尔与度拉糖肽联用\\n时无需进行剂量调整。\\n华法林\\n与度拉糖肽联用时， S-和R-华法林暴露以及 R-华法林 Cmax未受影响，而 S-华法林 Cmax\\n下降 22%。AUC INR增加 2%，可能无临床显著意义，且不影响最大国际标准化比值效果反应\\n（INR max） 。达到最大国际标准化比值反应（tINR max）的时间延迟 6小时，与 S-和R-华法林\\ntmax延迟约 4和6小时一致。这些变化不具有临床相关性。华法林与度拉糖肽联用时无需进\\n行剂量调整。\\n口服避孕药\\n度拉糖肽与口服避孕药（诺孕酯 0.18mg/炔雌醇 0.025mg）联用时，不影响诺孕曲明和炔\\n雌醇的整体暴露。诺孕曲明和炔雌醇的 Cmax分别下降 26%和13%，tmax分别延迟 2和0.30小\\n时，这些变化具有统计学显著意义。这些观察值均不具有临床相关性。口服避孕药与度拉糖\\n肽联用时无需进行剂量调整。\\n二甲双胍\\n二甲双胍（速释制剂 [IR]）稳态时联用多剂量度拉糖肽，二甲双胍 AUC τ增幅高达 15%，\\nCmax降幅高达 12%，t max无变化。这些变化符合度拉糖肽导致的胃排空延迟，且在二甲双胍\\n的药代动力学变异范围内，无临床相关性。与度拉糖肽联用时，不建议对二甲双胍速释制剂\\n进行剂量调整。\\n配伍禁忌\\n未进行相关相容性研究，因此不得将本药物与其他药物混合。仅供参考，请以包装中所附说明书为准\\n11 【药物过量】  \\n临床研究中，度拉糖肽过量的影响包括胃肠道疾病和低血糖。在药物过量事件中，应根\\n据患者的临床体征和症状给予适当的支持性治疗。\\n【临床试验】  \\n药效学作用\\n在首次给药后，度拉糖肽通过持续降低 2型糖尿病患者的空腹、餐前和餐后血糖浓度改善\\n血糖控制，且每周一次给药 可维持降糖效果。\\n度\\n拉糖肽药效学研究证明，在 2型糖尿病患者中，第一时相胰岛素分泌恢复，超过用安慰\\n剂的健康受试者的水平，且改善葡萄糖静脉注射后的第二时相胰岛素分泌。 在同一研究中，相\\n比于安慰剂，度拉糖肽 1.5mg单次给药最大程度的增加 β细胞胰岛素分泌且增强 β细胞功\\n能。\\n与药代动力学特征一致 ，度拉糖肽的药效学特征支持每周一次给药 （参见【药代动力学】 ） 。  \\n血糖控制\\n单药治疗  \\n在一项为期 52周的活性对照单药治疗研究中，对度拉糖肽与二甲双胍进行比较。度拉\\n糖肽 1.5mg 和0.75mg降低 HbA1c效果优于二甲双胍（1500-2000mg/ 天） ，且在 26周时相\\n比于二甲双胍，度拉糖肽 1.5mg 和0.75mg组更多患者达到 HbA1c <7.0% 和≤6.5%的目标，\\n具有统计学意义。  \\n表2：52周活性对照单药治疗研究，两个剂量度拉糖肽与二甲双胍比较结果  \\n基线\\nHbA1c  HbA1c的平\\n均变化H\\nbA1c达标患者比例  FBG的变化  体重的变化\\n（%） （%） <7.0%(%)  ≤6.5%(%)  （mmol/L） （kg） \\n26周 \\n度拉糖肽 1.5mg每周一次\\n（n=269）  7.63 -0.78b6 1.5#4 6.0##-1. 61 -2.29\\n度拉糖肽 0.75mg每周一\\n次（n=270）  7.58 -0.71b6 2.6#4 0.0#-1. 46 -1.36#\\n二甲双胍 1500-2000mg/\\n天（n=268）  7.60 -0.56 53.6 29.8 -1.34 -2.22仅供参考，请以包装中所附说明书为准\\n12 52周 \\n度拉糖肽 1.5mg每周一次\\n（n=269）  7.63 -0.70b60.0#42.3##-1.56#-1.93\\n度拉糖肽 0.75mg每周一\\n次（n=270）  7.58 -0.55a53. 2 34.7 -1.00 -1.09#\\n二甲双胍 1500-2000mg/\\n天（n=268）  7.60 -0.51 48.3 28.3 -1.15 -2.20\\na 多因素校正单侧 p值<0.0 25，非劣效性检验；b多因素校正单侧 p值<0.025，度拉糖肽与二甲双胍的优效性检验，仅对\\nHbA1c水平进行评估。  \\n#  p<0.05；##  p<0.001，度拉糖肽治疗组与二甲双胍治疗组相比。  \\n一项为期 26周的随机双盲活性对照研究，在经过饮食和运动或口服降糖药单药治疗\\n后血糖控制不佳的 2型糖尿病患者中，对度拉糖肽与格列美脲进行比较。度拉糖肽 1.5mg\\n和0.75mg降低 HbA1c效果优于格列美脲 （1- 3 mg/天） ， 且相比于格列美脲 ， 度拉糖肽 1.5mg \\n组有更多的患者达到 HbA1c<7.0% 和≤ 6.5%目标，具有统计学意义。  \\n表3： 26周活性对照研究，两个剂量度拉糖肽与格列美脲的比较  \\n基线\\nHbA1c  HbA1c的平\\n均变化Hb\\nA1c达标患者比例  FBG的变化  体重变化\\n(%) (%) <7.0%(%)  ≤6.5%(%)  （mmol/L） （kg） \\n26周 \\n度拉糖肽 1.5 mg每周一\\n次（n=239）  7.97 -1.48**,*74.1##59.4##-2.71##-1.46##\\n度拉糖肽 0.75 mg每周一\\n次（n=239）  8.01 -1.22+,a63.6  47.7 -2.26#-0.77##\\n格列美脲 1-3mg/天\\n（n=242）  7.87 -0.90 57.4 41.3 -1.89 0.89 \\n#  p<0.05； ##  p<0.001 度拉糖肽治疗组与格列美脲相比。\\n** 度拉糖肽 1.5mg 非劣效于格列美脲。  所有 p值是基于双侧检验，仅对 HbA1c水平进行评估。  \\n*度拉糖肽 1.5mg 优效于格列美脲。 所有 p值是基于双侧检验，仅对 HbA1c水平进行评估。\\n+度拉糖肽  0.75mg 非劣效于格列美脲。所有 p值是基于双侧检验，仅对 HbA1c水平进行评估。\\na   度拉糖肽  0.75mg 优效于格列美脲。所有 p值是基于双侧检验，仅对 HbA1c水平进行评估。\\n与二甲双胍联用  \\n在一项持续 104周的安慰剂和活性对照（西格列汀每日 100mg）研究中，在与二甲双\\n胍联用的情况下，评估度拉糖肽的安全性和有效性。 52周时，度拉糖肽  1.5mg和0.75mg\\n降低 HbA1c的效果优于西格列汀，且更多的患者达到 HbA1c<7.0% 和≤6.5%目标，具有统仅供参考，请以包装中所附说明书为准\\n13 计学意义。降糖效果持续到研究结束（ 104周 ）。  \\n表4：104周安慰剂和活性对照研究，两个剂量度拉糖肽与西格列汀比较结果  \\n基线\\nHbA1c  HbA1c的平\\n均变化H\\nbA1c达标患者比例  FBG的变化  体重的变化\\n（%） （%） <7.0%(%)  ≤6.5%(%)  （mmol/L） （kg） \\n26周 \\n度拉糖肽 1.5mg每周一\\n次（n=304）  8.12 -1.22‡‡,##\\n60.\\n9**,##46. 7**,##-2. 38**,##-3. 18**,##\\n度拉糖肽 0.75mg每周\\n一次（n=302）  8.19 -1.01‡‡,##\\n55.\\n2**,##31. 0**,##-1. 97**,##-2. 63**,##\\n安慰剂（n=177） 8.10 0.03 21.0 12.5 -0.49 -1.47\\n西格列汀 100mg每日一\\n次（n= 315） 8.09 -0.61 37.8 21.8 -0.97 -1.46\\n52周 \\n度拉糖肽 1.5mg每周一\\n次（n=304）  8.12 -1.10b57. 6##41. 7##-2. 38##-3. 03##\\n度拉糖肽 0.75mg每周\\n一次（n=302）  8.19 -0.87b48. 8##29. 0##-1. 63##-2. 60##\\n西格列汀 100mg每日一\\n次（n=315）  8.09 -0.39 33.0 19.2 -0.90 -1.53\\n104周 \\n度拉糖肽 1.5mg每周一\\n次（n=304）  8.12 -0.99b54. 3##39. 1##-1. 99##-2. 88##\\n度拉糖肽 0.75mg每周\\n一次（n=302）  8.19 -0.71b44. 8##24. 2##-1. 39##-2. 39\\n西格列汀 100mg每日一\\n次（n=315）  8.09 -0.32 31.1 14.1 -0.47 -1.75\\nb \\n多因素校正单侧 p值<0.025，度拉糖肽与西格列汀的优效性检验，仅对第 52周和 104周的 HbA1c水平进行评估。  \\n‡‡ 多因素校正单侧 p值<0.001，度拉糖肽与安慰剂的优效性检验，仅对 HbA1c水平进行评估。\\n**   p<0.001，度拉糖肽治疗组与安慰剂治疗组相比。  \\n##   p<0.001，度拉糖肽治疗组与西格列汀治疗组相比。  \\n在一项 26周的活性对照（利拉鲁肽 1.8mg，每日一次）研究中，在与二甲双胍联用的\\n情况下，评估度拉糖肽的安全性和有效性。度拉糖肽  1.5mg降低 HbA1c和HbA1c<7.0%仅供参考，请以包装中所附说明书为准\\n14 和≤6.5%的达标患者比例与利拉鲁肽相似。 \\n表5：26周活性对照研究，一个剂量度拉糖肽与利拉鲁肽比较结果  \\n基线\\nHbA1c  HbA1c的平\\n均变化H\\nbA1c达标患者比例  FBG的变化  体重的变化  \\n（%） （%） <7.0%(%)  ≤6.5%(%)  （mmol/L） （kg） \\n26周 \\n度拉糖肽 1.5mg每周一\\n次（n=299）  8.06 -1.42‡68. 3 54.6 -1.93 -2.90#\\n利拉鲁肽+每日 1.8mg\\n（n=300） 8.05 -1.36 67.9 50.9 -1.90 -3.61\\n‡ 单侧 p值p<0.001，度拉糖肽与利拉鲁肽的非劣效性检验，仅对 HbA1c水平进行评估。\\n#  p<0.05，度拉糖肽治疗组与利拉鲁肽治疗组相比。  \\n+ \\n随机分配至利拉鲁肽组的患者以 0.6mg/天的剂量起始。1 周后，将剂量上调至 1.2mg/天，2周后，上调至 1.8mg/天。  \\n与二甲双胍和磺脲类联用  \\n一项 78周的活性对照研究中，在二甲双胍和磺脲类药物治疗的基础上，进行度拉糖肽与甘\\n精胰岛素的比较。52 周时，度拉糖肽  1.5mg降低 HbA1c的效果优于甘精胰岛素，且该效果一\\n直持续到 78周；而度拉糖肽  0.75mg降低 HbA1c的效果非劣效于甘精胰岛素。与甘精胰岛素\\n相比，度拉糖肽  1.5mg治疗时，在 52周和 78周有更多的患者达到 HbA1c <7.0%和≤6.5%的目\\n标，具有统计学意义。\\n表6：78周活性对照研究，两个剂量度拉糖肽与甘精胰岛素的比较结果  \\n基线\\nHbA1c  HbA1c的平均  \\n变化H\\nbA1c达标患者比例  FBG的变化  体重的变化  \\n（%） （%） <7.0%(%)  ≤6.5%(%)  （mmol/L） （kg） \\n52周 \\n度拉糖肽 1.5mg每周\\n一次（n=273）  8.18 -1.08b53. 2##27. 0##-1. 50 -1.87##\\n度拉糖肽 0.75mg每周\\n一次（n=272）  8.13 -0.76a37. 1 22.5#-0. 87##-1. 33##\\n甘精胰岛素+每日一\\n次（n=262）  8.10 -0.63 30.9 13.5 -1.76 1.44 \\n78周 仅供参考，请以包装中所附说明书为准\\n15 度拉糖肽 1.5mg每周\\n一次（n=273）  8.18 -0.90b49. 0##28. 1##-1. 10#-1. 96##\\n度拉糖肽 0.75mg每周\\n一次（n=272）  8.13 -0.62a34. 1 22.1 -0.58##-1. 54##\\n甘精胰岛素+每日一\\n次（n=262）  8.10 -0.59 30.5 16.6 -1.58 1.28 \\na\\n多因素校正 单侧 p值<0.0 25，非劣效性检验；b 多因素校正 单侧 p值<0.025，度拉糖肽与甘精胰岛素的优效性检验，仅\\n对HbA1c水平进行评估。  \\n#   p<0.05，##  p<0.001，度拉糖肽治疗组与甘精胰岛素治疗组相比 。 \\n+  \\n采用 <5.6mmol/L 的空腹血糖目标算法调整甘精胰岛素的剂量。  \\n与二甲双胍和 /或磺脲类联用  \\n一项 52周的活性对照研究，在二甲双胍和/ 或磺脲类药物治疗的基础上，对度拉糖肽与\\n甘精胰岛素进行比较。26 周时，度拉糖肽 1.5mg和0.75mg降低 HbA1c效果优于甘精胰岛\\n素，且持续到 52周。与甘精胰岛素相比，度拉糖肽 1.5mg 和0.75mg治疗时，在 26周和 52\\n周有更多的患者达到 HbA1c<7.0% 和≤6.5%目标，具有统计学意义。  \\n表 7：52周活性对照研究，两个剂量度拉糖肽与甘精胰岛素的比较  \\n基线 HbA1c  HbA1c的\\n平均变化H\\nbA1c达标患者比例  FBG的变化  体重变化\\n(%) (%) <7.0%(%)  ≤6.5%(%)  （mmol/L） （kg） \\n26周 \\n度拉糖肽 1.5 mg每周一\\n次（ n=253）  8.46 -1.73 **,*64. 8##51. 4##-2. 35 -1.47##\\n度拉糖肽 0.75 mg每周一\\n次（ n=252）   8.30 -1.33 c,a52. 8#38. 9##-1. 71##-0. 88##\\n甘精胰岛素+每日一次\\n（n=250）  8.32 -1.16 40.0 21.6 -2.59 0.97 \\n52周 \\n度拉糖肽 1.5 mg每周一\\n次（ n=253）  8.46 -1.47**,*51. 8##37. 2##-2. 23 -1.08##\\n度拉糖肽 0.75 mg每周一\\n次（ n=252）  8.30 -1.03 c45. 6#31. 3##-1. 53##-0. 76##\\n甘精胰岛素+每日一次\\n（n=250）  8.32 -0.89 32.0 17.2 -2.35 1.35 \\n#  p<0.05； ##  p<0.001 度拉糖肽治疗组与活性对照药物相比。  \\n** 度拉糖肽 1.5mg 非劣效于甘精胰岛素。  所有 p值是基于双侧检验，仅对 HbA1c水平进行评估。  \\n*度拉糖肽 1.5mg 优效于甘精胰岛素。所有 p值是基于双侧检验 ，仅对 HbA1c水平进行评估。仅供参考，请以包装中所附说明书为准\\n16 c\\n度拉糖肽 0.75mg 非劣效于甘精胰岛素。  所有 p值是基于双侧检验 ，仅对 HbA1c水平进行评估。  \\na\\n度拉糖肽 0.75mg 优效于甘精胰岛素。  所有 p值是基于双侧检验 ，仅对 HbA1c水平进行评估。  \\n+ \\n采用<5.6mmol/L 的空腹血糖目标算法调整甘精胰岛素的剂量。\\n与磺脲类联用  \\n一项 24周的安慰剂 对照研究中，在磺脲类药物治疗的基础上， 评估度拉糖肽的安全性和有\\n效性。 24周时，度拉糖肽  1.5mg联合格列美脲治疗的降低 HbA1c效果优于安慰剂联合格列美\\n脲。与安慰剂相比，度拉糖肽 1.5mg治疗时，在 24周有更多的患者达到 HbA1c <7.0%和≤6.5%\\n的目标。\\n表8：24周度拉糖肽联合格列美脲 安慰剂对照研究的比较结果  \\n基线\\nHbA1c  HbA1c的平均  \\n变化H\\nbA1c达标患者比例  FBG的变化  体重的变化\\n（%） （%） <7.0%(%)  ≤6.5%(%)  （mmol/L） （kg） \\n24周 \\n度拉糖肽 1.5mg每周\\n一次（n=239）  8.39 -1.38‡‡55. 3‡‡40. 00**-1. 70‡‡-0. 91\\n安慰剂（n=60） 8.39 -0.11 18.9 9.4 0.16 -0.24\\n‡‡  \\nP＜\\n0.001表示度拉糖肽相比安慰剂的优效性，总体第一类错误的概率受控 。\\n**    P＜0.001表示度拉糖肽治疗组相比安慰剂。   \\n空腹血糖\\n度拉糖肽治疗显著降低空腹血糖。对空腹血糖的影响主要发生在前 2周。空腹血糖的\\n改善持续至 104周。  \\n餐后血糖\\n度拉糖肽治疗显著降低平均餐后血糖（从基线至主要时间点的变化- 1.95mmol/L 至-\\n4.23mmol/L ）。 \\nβ细胞功能 \\n临床研究显示，度拉糖肽增强胰岛 β细胞功能，由稳态模型评估（HOMA2 -%B）测得。\\n对β细胞功能的影响持续至 104周。  \\n体重\\n研究期间，度拉糖肽 1.5mg与持续体重减轻有关 （从基线至最终时间点的变化 -0.35kg\\n至-2.90kg ） 。度拉糖肽  0.75mg治疗时，体重变化范围为 0.86kg至-2.63kg 。度拉糖肽治疗\\n患者的体重减轻与恶心无关，然而伴有恶心患者的体重下降更多。仅供参考，请以包装中所附说明书为准\\n17 患者报告结果\\n与艾塞那肽每日两次相比，度拉糖肽显著提高总体治疗满意度。此外，高血糖和低血糖\\n的频率显著较低。\\n血压\\n在一项 755例2型糖尿病患者的研究中，采用动态血压监测评估度拉糖肽对血压的影\\n响。 16周时，度拉糖肽降低收缩压（ SBP） （与安慰剂相比， -2.8mmHg ）。 舒 张 压 （ DBP）没\\n有差异。最终 26周时显示了类似的收缩压和舒张压结果。 \\n心血管评估\\nII期和 III期研究的荟萃分析  \\n在一项 II期和 III期临床研究的荟萃分析中，共有 51名患者（度拉糖肽： 26[N=3885] ；\\n所有对照组： 25[N=2125] ）发生至少一例心血管（ CV）事件（心血管所致的死亡、非致死性\\n心梗、非致死性卒中或因不稳定心绞痛住院） 。结果表明，与对照治疗相比，度拉糖肽不增加心血管风险（HR ：0.57；CI：[0.30， 1.10]）。 \\n心血管结局研究  \\n度拉糖肽长期心血管结局研究是一项安慰剂对照、 双盲临床试验。 在 2型糖尿病标准治\\n疗的基础上， 2型糖尿病患者随机分配接受度拉糖肽 1.5 mg（4949名）或安慰剂（ 4952名）\\n治疗（本研究中未使用 0.75 mg剂量） 。中位研究随访时间为 5.4年。 \\n患者平均年龄为 66.2岁，平均 BMI为32.3 kg/m ²，女性占 46.3%。3114名（ 31.5%）患\\n者确诊患有 CV疾病。 中位基线 HbA1c为7.2%。 度拉糖肽治疗组纳入了≥ 65 岁（2619名）\\n和≥ 75 岁（484 名）的患者，以及纳入了有轻度（n = 2435 名） 、中度（1031 名）或重度\\n（50名）肾功能不全的患者。  \\n主要终点是从随机到首次出现任何主要心血管不良事件（ MACE）的时间：CV 死亡、\\n非致死性心肌梗死或非致死性卒中。度拉糖肽降低 MACE风险优效于安慰剂 （HR：0.88；\\n95%CI：[0.79， 0.99]）（图 1） 。每个 MACE组 成均有助于 MACE降低，如图 2所示。 仅供参考，请以包装中所附说明书为准\\n18 图1.\\n度拉糖肽长期心血管结局研究中至首次出现复合结局（CV 死亡、非致死性心肌梗死\\n或非致死性卒中）时间的 Kaplan -Meier图 \\n图2\\n.对主要终点的各心血管事件组分、全因死亡以及各亚组之间效果一致性分析的森林图\\n仅供参考，请以包装中所附说明书为准\\n19 在标准治疗的基础上，与安慰剂相比，度拉糖肽治疗组从基线到 60个月时 HbA1c水平\\n持续显著降低（- 0.29% vs 0.22% ；治疗差异估计值 -0.51% [ -0.57； -0.45]；p < 0.001） 。与安慰\\n剂组相比， 度拉糖肽组接受额外 血糖干预的患者比例明显降低 （度拉糖肽组： 2086名[42.2%] ；\\n安慰剂组：2825 名[57.0%]；p < 0.001 ）。 \\n特殊人群\\n肾\\n功能损害患者用药\\n在一项 52周的临床试验中，在伴有中度到重度慢性肾脏疾病（ eGFR [根据 CKD -EPI] \\n<60且≥15 mL/min/1.73 m2）患者中评价了度拉糖肽 1.5 mg和0.75 mg 相比于使用滴定剂量\\n的甘精胰岛素的血糖控制效应和安全性。基线时的总体平均 eGFR是38 mL/min/1.73 m2，\\n30%的患者的 eGFR< 30 mL/min/1.73 m2。 \\n在第 26周时，度拉糖肽 1.5 mg和0.75 mg 在降低 HbA1c方面非劣于甘精胰岛素，且\\n在第 52周时仍保持该效应。在第 26周和第 52周时，两个度拉糖肽剂量组和甘精胰岛素组\\n达到 HbA1c目标值< 8.0% 的患者比例相似。  \\n表9：52周阳性对照研究，两种剂量度拉糖肽与甘精胰岛素的比较结果（中度至重度慢性肾脏疾病患者）  \\n基线 HbA1c  HbA1c平均变化  HbA1c达标患者比例  FBG变化  体重变化\\n(%) (%) <8.0% (%)  (mmol/L)  (kg) \\n26周 \\n度拉糖肽 1.5 mg每周\\n一次 (n=192) 8.60 -1.19a78. 3 1.28##-2.81##\\n度拉糖肽 0.75 mg \\n每周一次 (n=190) 8.58 -1.12a72. 6 0.98##-2.02##\\n甘精胰岛素+每日一\\n次(n=194) 8.56 -1.13 75.3 -1.06 1.11 \\n52周 \\n度拉糖肽 1.5 mg每周\\n一次 (n=192) 8.60 -1.10a69. 1 1.57##-2.66##\\n度拉糖肽 0.75 mg每\\n周一次 (n=190) 8.58 -1.10a69. 5 1.15##-1.71##\\n甘精胰岛素+每日一\\n次(n=194) 8.56 -1.00 70.3 -0.35 1.57 \\na  度拉糖肽与甘精胰岛素非劣效性比较的单侧 p值< 0.025。  \\n##   度拉糖肽治疗组与甘精胰岛素相比的 p值< 0.001。  \\n+采用以 空腹血糖≤8.3mmol/L 为目标的算法调整甘精胰岛素剂量。仅供参考，请以包装中所附说明书为准\\n20 【药理毒理】  \\n药理作用  \\n度拉糖肽是一种人胰高血糖素样肽-1 （GLP-1）受体激动剂，与内源性 GLP-1（7-37）具\\n有90%的氨基酸序列同源性。 在胰腺β细胞中， GLP-1受体是一类膜结合细胞表面受体，可\\n与腺苷酸环化酶偶联。度拉糖肽可激活 GLP-1受体，增加 β细胞内环磷酸腺苷（cAMP）含\\n量，导致葡萄糖依赖性胰岛素释放；度拉糖肽还可抑制胰高血糖素分泌并延缓胃排空。  \\n毒理研究  \\n生殖毒性  \\n在大鼠生育力与早期胚胎发育毒性试验中，度拉糖肽剂量高达 16.3mg/kg （以AUC计，\\n为人最大推荐剂量（MRHD）1.5mg/周的 130倍），未见对精子形态、交配、生育力、妊娠、\\n胚胎存活的不良影响。在雌性动物中，≥ 4.9mg/kg （以AUC计，为MRHD的32倍）的母体动\\n物毒性（可见摄食量和体重增加减少）剂量下，可见动情周期延长，平均黄体数、平均着床\\n数以及活胎数剂量依赖性的降低。  \\n妊娠大鼠于器官发生期分别每 3天皮下注射度拉糖肽 0.49、1.63 、4.89mg/kg（以 AUC\\n计，分别为 MRHD 1.5mg/ 周的4、14、44倍），≥1.63mg/kg 可见胎仔体重减轻，这与药理\\n作用导致的母体摄食量和体重增加减少有关。 4.89mg/kg 剂量下还可见骨化不全 和着床后丢\\n失率增加。妊娠兔于器官发生期分别每 3天皮下注射度拉糖肽 0.04、0.12、0.41mg/kg （以\\nAUC计，分别为 MRHD的1、4、13倍），0.41mg/kg 剂量下可见肺小叶发育不全的胎仔内脏\\n畸形及椎骨和/或肋骨骨骼畸形，该剂量下母体动物可见药理作用相关的摄食量和体重增加\\n减少。 \\n在大鼠围产期毒性试验中，F0 代母鼠每 3天皮下注射度拉糖肽 0.2、0.49、1.63mg/kg\\n（以AUC计，分别为 MRHD的2、4、16倍），1.63mg/kg 给药组F1代，出生后平均体重可\\n见统计学意义的降低（雄性至出生后 63天，雌性至出生后 84天），前后肢握力下降，雄性\\n可见包皮分离延迟，雌性可见惊吓反应降低。这些生理发现可能与该组 F1代相比对照组体\\n型较小有关，因为这些结果仅在出生后早期评估中出现，在后期评估中未见以上反应。在开展的两项水迷宫 记忆评估试验的一项试验中，与平行对照组相比，1.63mg/kg 组雌性F1代\\n平均逃避时间延长，平均错误数增高，这些结果可能与药理作用导致的 F0代母鼠摄食量和\\n体重增加减少有关，雌性 F1代大鼠中出现 的记忆障碍与人的相关性尚不清楚。  \\n致癌性 仅供参考，请以包装中所附说明书为准\\n21 在大鼠2年致癌性试验中， 雌雄大鼠每周两次皮下注射度拉糖肽 0.05、0.5、1.5、5mg/kg\\n（以AUC计，分别为 MRHD 1.5mg/周的 0.5、7、 20、58倍），≥7 倍MRHD（以 AUC计）剂\\n量下，大鼠可见 剂量和给药时间依赖 的甲状腺 C细胞肿瘤（腺瘤和/ 或癌）发生率增加；\\n≥0.5mg/kg 剂量，可见 C-细胞腺瘤有统计学意义增加 ；5mg/kg （以AUC计，为MRHD的58\\n倍）剂量下，可见与甲状腺 C细胞癌数量 增加，尽管无统计学意义，但认为与给药相关。  \\n在RasH2转基因小鼠 6个月致癌性试验中， 每周两次皮下注射度拉糖肽 0.3、1、3mg/kg，\\n各剂量下均未见甲状腺 C细胞增生或肿瘤发生率增加。  \\n大鼠中发现的甲状腺 C细胞肿瘤与人相关性尚不明确。 \\n【药代动力学】  \\n吸收\\n在2型糖尿病患者中，度拉糖肽经皮下注射后，在 48小时内达到血浆浓度峰值。 2型糖\\n尿病患者多次皮下注射度拉糖肽 1.5mg后，平均峰值（ Cmax）和总（AUC ）暴露分别约为\\n114ng/ml 和14000ngh/ml 。度拉糖肽（1.5mg ）每周一次给药 2至4周达到稳态血浆浓度。度\\n拉糖肽（ 1.5mg）单次给药，经腹部、大腿或上臂皮下注射后，其暴露相似。度拉糖肽 1.5mg\\n和0.75mg单次皮下给药后，平均绝对生物利用度分别为 47%和65%。 \\n分布\\n2型糖尿病患者度拉糖肽 0.75mg和1.5mg皮下给药达稳态后，平均分布容积为 19.2L和\\n17.4L。 \\n生物转化\\n目前认为度拉糖肽通过蛋白质分解代谢途径降解为其组成成分氨基酸。\\n消除\\n稳态时度拉糖肽 0.75mg和1.5mg的平均表观清除率分别为 0.111L/h 和0.107L/h，清除\\n半衰期分别为 4.5和4.7天。 \\n特殊人群\\n老年患者  \\n年龄对度拉糖肽的药代动力学和药效学特性没有临床相关影响。\\n性别和种族  \\n性别和种族对度拉糖肽的药代动力学没有临床意义的影响。\\n体重或体重指数  仅供参考，请以包装中所附说明书为准\\n22 药代动力学分析显示，虽然体重或 BMI对血糖控制不具有临床相关影响，体重或体重\\n指数（ BMI）和度拉糖肽暴露之间存在反比关系，具有统计学意义。 \\n肾功能损害患者  \\n在一项临床药理学研究中评估度拉糖肽的药代动力学特性，结果显示健康受试者和轻度\\n至重度肾功能损害患者（肌酐清除率<30ml/min ） ，包括终末期肾病（需要透析）患者之间药\\n代动力学大致相似。 与肾功能正常的受试者相比，轻度、中度、重度和 ESRD肾功能损害亚\\n组患者的度拉糖肽全身暴露量分别增加 20%、28%、14%和12%。相应的 Cmax值分别增加\\n13%、23%、20%和11%。此外，在一项在 2型糖尿病和中度至重度肾功能损害患者中开展\\n的为期 52周的 III期研究中，每周一次 0.75 mg和1.5 mg 本品的 PK特征与前期临床研究\\n中的 PK特征相似。  \\n肝功能损害患者  \\n在一项临床药理学研究中评估度拉糖肽的药代动力学特性，与健康对照组相比，肝功能\\n损害患者度拉糖肽平均 Cmax和AUC分别下降了 30%至33%，具有统计学意义。随着肝功能\\n损害增加，度拉糖肽 tmax普遍增加。然而，未见度拉糖肽暴露与肝功能损害程度之间的变化\\n趋势。认为这些效果不具临床相关性。\\n儿科人群  \\n未在儿科人群中进行度拉糖肽药代动力学的相关研究。\\n【贮藏】  \\n  存放于冰箱内（2ºC -8º C）。 \\n不可冷冻。\\n存放于原包装内，以避光保存。\\n使用时：\\n    本品可在不超过 30ºC的温度下非冷藏存储长达 14天。  \\n【包装】  \\n     本品装于一次性使用注射笔内的玻璃注射器（I 型 ）。 \\n     每支预填充注射笔内含有 0.5ml溶液。 \\n     2支/盒，4支/盒。 \\n【有效期】  \\n     24个月 \\n【执行标准】  仅供参考，请以包装中所附说明书为准\\n23  进口药品注册标准 JS20210001 \\n【批准文号】  \\n 进口药品注册证号  \\n0.75mg : 0.5ml (预填充注射笔): S20190021 \\n1.5mg : 0.5ml (预填充注射笔 ): S20190022 \\n【上市许可持有人 】 \\n名称：Eli Lilly Nederland B.V. 注册地址：Papendorpseweg 83,3528 BJ Utrecht, The Netherlands \\n【生产企业】  \\n企业名称：Vetter Pharma-Fertigung GmbH & Co.KG \\n生产地址：Mooswiesen 2,  88214 Ravensburg,  Germany \\n 【包装厂】 \\n企业名称：Eli Lilly Italia S.p.A. \\nLilly France \\n包装厂地址：Via Gramsci, 731-733, 50019, Sesto Fiorentino, (FI), Italy \\n2 rue du colonel Lilly, 67640 Fegersheim, France \\n【境内联系机构 】 \\n名称：礼来（上海）管理有限公司  \\n地址：中国（上海）自由贸易试验区新灵路 118号国际商贸大厦 19层1903A室 \\n联系方式：4008282059 \\n仅供参考，请以包装中所附说明书为准', doc_id='3cc0677f-12e9-482e-a25f-4fff75c35fac', embedding=None, doc_hash='82050168f01d9dae86048b9b8c02e369eee6f6a43ab6a4722a3abd66e26fa3a2', extra_info=None)]"
            ]
          },
          "metadata": {},
          "execution_count": 8
        }
      ],
      "source": [
        "from pathlib import Path\n",
        "from gpt_index import download_loader\n",
        "\n",
        "PDFReader = download_loader(\"PDFReader\")\n",
        "\n",
        "loader = PDFReader()\n",
        "documents = loader.load_data(file=Path('./Trulicity.pdf'))\n",
        "documents"
      ]
    }
  ]
}